{
 "cells": [
  {
   "cell_type": "markdown",
   "metadata": {},
   "source": [
    "# Scratch File for Shawn. No one else should edit or check in."
   ]
  },
  {
   "cell_type": "code",
   "execution_count": 1,
   "metadata": {
    "collapsed": false
   },
   "outputs": [],
   "source": [
    "%load_ext autoreload\n",
    "%autoreload 2\n",
    "import shared_utils as su\n",
    "import numpy as np\n",
    "import pandas as pd\n",
    "%matplotlib inline\n",
    "import matplotlib.pyplot as plt"
   ]
  },
  {
   "cell_type": "markdown",
   "metadata": {},
   "source": [
    "Workflow Note: To avoid the chaos of notebooks and git we made three separate notebooks, one for each developer. The developer assigned a given notebook was the only person allowed to edit that notebook. Any code that seemed like others might find useful was put into a python library file. Otherwise if it was just a smaller bit of code you could go in and copy and paste what someone else did in their notebook. This worked well and we never had any major git hub merging issues or difficulties. The final lab notebook might be the exception to this rule as we attempt to merge our separate notebooks into a single file."
   ]
  },
  {
   "cell_type": "code",
   "execution_count": 2,
   "metadata": {
    "collapsed": false,
    "scrolled": true
   },
   "outputs": [
    {
     "data": {
      "text/html": [
       "<div>\n",
       "<table border=\"1\" class=\"dataframe\">\n",
       "  <thead>\n",
       "    <tr style=\"text-align: right;\">\n",
       "      <th></th>\n",
       "      <th>Trip_ID</th>\n",
       "      <th>Duration</th>\n",
       "      <th>Start_Date</th>\n",
       "      <th>Start_Station</th>\n",
       "      <th>Start_Terminal</th>\n",
       "      <th>End_Date</th>\n",
       "      <th>End_Station</th>\n",
       "      <th>End_Terminal</th>\n",
       "      <th>Bike_#</th>\n",
       "      <th>Subscriber_Type</th>\n",
       "      <th>Zip_Code</th>\n",
       "    </tr>\n",
       "  </thead>\n",
       "  <tbody>\n",
       "    <tr>\n",
       "      <th>0</th>\n",
       "      <td>913460</td>\n",
       "      <td>765</td>\n",
       "      <td>8/31/2015 23:26</td>\n",
       "      <td>Harry Bridges Plaza (Ferry Building)</td>\n",
       "      <td>50</td>\n",
       "      <td>8/31/2015 23:39</td>\n",
       "      <td>San Francisco Caltrain (Townsend at 4th)</td>\n",
       "      <td>70</td>\n",
       "      <td>288</td>\n",
       "      <td>Subscriber</td>\n",
       "      <td>2139</td>\n",
       "    </tr>\n",
       "    <tr>\n",
       "      <th>1</th>\n",
       "      <td>913459</td>\n",
       "      <td>1036</td>\n",
       "      <td>8/31/2015 23:11</td>\n",
       "      <td>San Antonio Shopping Center</td>\n",
       "      <td>31</td>\n",
       "      <td>8/31/2015 23:28</td>\n",
       "      <td>Mountain View City Hall</td>\n",
       "      <td>27</td>\n",
       "      <td>35</td>\n",
       "      <td>Subscriber</td>\n",
       "      <td>95032</td>\n",
       "    </tr>\n",
       "    <tr>\n",
       "      <th>2</th>\n",
       "      <td>913455</td>\n",
       "      <td>307</td>\n",
       "      <td>8/31/2015 23:13</td>\n",
       "      <td>Post at Kearny</td>\n",
       "      <td>47</td>\n",
       "      <td>8/31/2015 23:18</td>\n",
       "      <td>2nd at South Park</td>\n",
       "      <td>64</td>\n",
       "      <td>468</td>\n",
       "      <td>Subscriber</td>\n",
       "      <td>94107</td>\n",
       "    </tr>\n",
       "    <tr>\n",
       "      <th>3</th>\n",
       "      <td>913454</td>\n",
       "      <td>409</td>\n",
       "      <td>8/31/2015 23:10</td>\n",
       "      <td>San Jose City Hall</td>\n",
       "      <td>10</td>\n",
       "      <td>8/31/2015 23:17</td>\n",
       "      <td>San Salvador at 1st</td>\n",
       "      <td>8</td>\n",
       "      <td>68</td>\n",
       "      <td>Subscriber</td>\n",
       "      <td>95113</td>\n",
       "    </tr>\n",
       "    <tr>\n",
       "      <th>4</th>\n",
       "      <td>913453</td>\n",
       "      <td>789</td>\n",
       "      <td>8/31/2015 23:09</td>\n",
       "      <td>Embarcadero at Folsom</td>\n",
       "      <td>51</td>\n",
       "      <td>8/31/2015 23:22</td>\n",
       "      <td>Embarcadero at Sansome</td>\n",
       "      <td>60</td>\n",
       "      <td>487</td>\n",
       "      <td>Customer</td>\n",
       "      <td>9069</td>\n",
       "    </tr>\n",
       "  </tbody>\n",
       "</table>\n",
       "</div>"
      ],
      "text/plain": [
       "   Trip_ID  Duration       Start_Date                         Start_Station  \\\n",
       "0   913460       765  8/31/2015 23:26  Harry Bridges Plaza (Ferry Building)   \n",
       "1   913459      1036  8/31/2015 23:11           San Antonio Shopping Center   \n",
       "2   913455       307  8/31/2015 23:13                        Post at Kearny   \n",
       "3   913454       409  8/31/2015 23:10                    San Jose City Hall   \n",
       "4   913453       789  8/31/2015 23:09                 Embarcadero at Folsom   \n",
       "\n",
       "   Start_Terminal         End_Date                               End_Station  \\\n",
       "0              50  8/31/2015 23:39  San Francisco Caltrain (Townsend at 4th)   \n",
       "1              31  8/31/2015 23:28                   Mountain View City Hall   \n",
       "2              47  8/31/2015 23:18                         2nd at South Park   \n",
       "3              10  8/31/2015 23:17                       San Salvador at 1st   \n",
       "4              51  8/31/2015 23:22                    Embarcadero at Sansome   \n",
       "\n",
       "   End_Terminal  Bike_# Subscriber_Type Zip_Code  \n",
       "0            70     288      Subscriber     2139  \n",
       "1            27      35      Subscriber    95032  \n",
       "2            64     468      Subscriber    94107  \n",
       "3             8      68      Subscriber    95113  \n",
       "4            60     487        Customer     9069  "
      ]
     },
     "execution_count": 2,
     "metadata": {},
     "output_type": "execute_result"
    }
   ],
   "source": [
    "trip_data = su.read_trip_data(False)\n",
    "trip_data.head()"
   ]
  },
  {
   "cell_type": "code",
   "execution_count": 3,
   "metadata": {
    "collapsed": false
   },
   "outputs": [],
   "source": [
    "station_data = su.read_station_data()"
   ]
  },
  {
   "cell_type": "markdown",
   "metadata": {},
   "source": [
    "Basing anything on a customers zip code seems to require some cleaning up of that field. Rather than replace the field values I've opted to create a new column with scrubbed data. This process was challenging because the zip code appeared not have any validation done on it when entered. There were blanks, the text string \"nil\" numbers with fewer than five digits and extended zip codes with dashes in them. We had wanted to set all invalid zip codes to NaN but that was difficult to do in a straightforward manner because not all of the entries could be represented as numbers. So the cleaning code was taken out of the notebook and moved into our python library so that everyone could easily reference it in seperate notebooks."
   ]
  },
  {
   "cell_type": "code",
<<<<<<< HEAD
   "execution_count": 1,
=======
   "execution_count": 4,
>>>>>>> 3c26445f0cdcfb0ebc38adb84c015325e38d75fb
   "metadata": {
    "collapsed": false,
    "scrolled": true
   },
   "outputs": [
    {
     "ename": "NameError",
     "evalue": "name 'su' is not defined",
     "output_type": "error",
     "traceback": [
      "\u001b[0;31m---------------------------------------------------------------------------\u001b[0m",
      "\u001b[0;31mNameError\u001b[0m                                 Traceback (most recent call last)",
      "\u001b[0;32m<ipython-input-1-8318f90e1ead>\u001b[0m in \u001b[0;36m<module>\u001b[0;34m()\u001b[0m\n\u001b[0;32m----> 1\u001b[0;31m \u001b[0msu\u001b[0m\u001b[0;34m.\u001b[0m\u001b[0mclean_zip_codes\u001b[0m\u001b[0;34m(\u001b[0m\u001b[0mtrip_data\u001b[0m\u001b[0;34m)\u001b[0m\u001b[0;34m\u001b[0m\u001b[0m\n\u001b[0m",
      "\u001b[0;31mNameError\u001b[0m: name 'su' is not defined"
     ]
    }
   ],
   "source": [
    "su.clean_zip_codes(trip_data)\n"
   ]
  },
  {
   "cell_type": "markdown",
   "metadata": {},
   "source": [
    "Doing the join on zip_code_trip_counts and zip_code_station_counts was problematic until we made the zipcode the index on both dataframes. Prior to making the zip code the index we tried using the \"on\" parameter to join like this:\n",
    "zip_code_trip_counts.join(zip_code_station_counts, on=\"Zip_Code\") \n",
    "This always failed (even when specifying a left and right post fix for the overlapping Zip_Code column. The documentation made it seem like this should work. After getting the join to work on the zip code indexes we didn't have time to further debug the other technique and so it's still a mystery how to join on something other than the index of two dataframes."
   ]
  },
  {
   "cell_type": "code",
   "execution_count": 5,
   "metadata": {
    "collapsed": false
   },
   "outputs": [],
   "source": [
    "# Counts of how often a customer is from a san francisco zip code\n",
    "zip_code_trip_counts = su.get_trip_counts_by_zip_code(trip_data)\n",
    "\n",
    "# Counts of how many stations are in a zip code\n",
    "zip_code_station_counts = su.get_station_counts_by_zip_code(station_data)\n",
    "# originally tried a two different filtering techniques. Not sure which is better.\n",
    "#sf_only_customer_trip_data = trip_data.groupby(\"Clean_Zip_Code\").filter(lambda x: x.name in su.SF_ZIP_CODES)\n",
    "#sf_only_customer_trip_data = trip_data[trip_data.Clean_Zip_Code.map(lambda x : x in su.SF_ZIP_CODES)]\n",
    "\n",
    "# why couldn't I reset indexes and do: zip_code_trip_counts.join(zip_code_station_counts, on=\"Zip_Code\") \n",
    "trip_and_station_counts = zip_code_trip_counts.join(zip_code_station_counts)\n",
    "trip_and_station_counts.fillna(0, inplace=True)"
   ]
  },
  {
   "cell_type": "markdown",
   "metadata": {},
   "source": [
    "Our first graph! Here we had to make some business decision about how to represent rides since they are not directly representing in the data. Each trip has a rider type and their home zip code but no unique ids for the riders. We decide that the number of trips would likely be proportial to the number of riders and worked with that. Below we scale the number of trips down by 1000 to represent a rider count and to allow us to graph that number along with station and bike counts without the rider count being so big that it would be hard to read the counts for the bikes and stations.\n",
    "\n",
    "From a technical standpoint the most unexpected part was that we need to adjust the bottom of our graphs because when they are saved a file they our x-axis label was getting cut off. We thank Google for its contribution to our success.\n",
    "\n",
    "We also struggled making each zip code have two bars instead of a single one. We eventually settled on overlaying the two bars but another good option that we never did figure out was how to put to bars side by side if they're coming from two different dataframes."
   ]
  },
  {
   "cell_type": "code",
   "execution_count": 6,
   "metadata": {
    "collapsed": false
   },
   "outputs": [
    {
     "data": {
      "image/png": "iVBORw0KGgoAAAANSUhEUgAAAlwAAAFeCAYAAABQPMEmAAAABHNCSVQICAgIfAhkiAAAAAlwSFlz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\nJSIiIhKx/w+zNPuDGhnTlwAAAABJRU5ErkJggg==\n",
      "text/plain": [
       "<matplotlib.figure.Figure at 0x10a937160>"
      ]
     },
     "metadata": {},
     "output_type": "display_data"
    }
   ],
   "source": [
    "graphable_data = trip_and_station_counts.head(12).copy()\n",
    "graphable_data.Trip_Count = graphable_data.Trip_Count / 1000\n",
    "graphable_data.index = [int(x) for x in graphable_data.index]\n",
    "ax = graphable_data.Trip_Count.plot(kind=\"bar\", label=\"Estimated Rider Count\", legend=True, figsize=(10,5),\n",
    "                                    title=\"Rider and Station Counts by Zip Code Ordered by Number of Riders\")\n",
    "graphable_data.Station_Count.plot(kind=\"bar\", label=\"Station Count\", color=\"Green\", legend=True)\n",
    "ax.set_xlabel(\"Zip Codes\")\n",
    "ax.set_ylabel(\"Count\")\n",
    "# prevents the x label from getting cut off in png file\n",
    "plt.gcf().subplots_adjust(bottom=0.15)\n",
    "fig = ax.get_figure()\n",
    "fig.savefig('trips_no_stations.png')"
   ]
  },
  {
   "cell_type": "code",
   "execution_count": 7,
   "metadata": {
    "collapsed": false
   },
   "outputs": [
    {
     "data": {
      "image/png": "iVBORw0KGgoAAAANSUhEUgAAAlwAAAFeCAYAAABQPMEmAAAABHNCSVQICAgIfAhkiAAAAAlwSFlz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\nAAAAAElFTkSuQmCC\n",
      "text/plain": [
       "<matplotlib.figure.Figure at 0x10a925828>"
      ]
     },
     "metadata": {},
     "output_type": "display_data"
    }
   ],
   "source": [
    "graphable_data = trip_and_station_counts.sort_values(\"Station_Count\", ascending=False).head(9).copy()\n",
    "graphable_data.Trip_Count = graphable_data.Trip_Count / 1000\n",
    "graphable_data.index = [int(x) for x in graphable_data.index]\n",
    "ax = graphable_data.Trip_Count.plot(kind=\"bar\", label=\"Estimated Rider Count\", legend=True, figsize=(10,5),\n",
    "                                    title=\"Rider and Station Counts by Zip Code Ordered by Number of Stations\")\n",
    "graphable_data.Station_Count.plot(kind=\"bar\", label=\"Station Count\", color=\"Green\", legend=True)\n",
    "ax.set_xlabel(\"Zip Codes\")\n",
    "ax.set_ylabel(\"Count\")\n",
    "plt.gcf().subplots_adjust(bottom=0.15)\n",
    "fig = ax.get_figure()\n",
    "fig.savefig('ordered_by_station_count.png')"
   ]
  },
  {
   "cell_type": "markdown",
   "metadata": {},
   "source": [
    "Interestingly, during analysis it was often a lot easier to understand the data when looking at it in table form, especially as numbers approached zero, or to really see small differences (like seeing 1 vs 2 is hard to do when your dealing with a axis that is 50 tall."
   ]
  },
  {
   "cell_type": "code",
   "execution_count": 8,
   "metadata": {
    "collapsed": false
   },
   "outputs": [
    {
     "data": {
      "text/html": [
       "<div>\n",
       "<table border=\"1\" class=\"dataframe\">\n",
       "  <thead>\n",
       "    <tr style=\"text-align: right;\">\n",
       "      <th></th>\n",
       "      <th>Trip_Count</th>\n",
       "      <th>Station_Count</th>\n",
       "    </tr>\n",
       "  </thead>\n",
       "  <tbody>\n",
       "    <tr>\n",
       "      <th>94105</th>\n",
       "      <td>20.311</td>\n",
       "      <td>7</td>\n",
       "    </tr>\n",
       "    <tr>\n",
       "      <th>94111</th>\n",
       "      <td>10.960</td>\n",
       "      <td>7</td>\n",
       "    </tr>\n",
       "    <tr>\n",
       "      <th>94102</th>\n",
       "      <td>10.150</td>\n",
       "      <td>7</td>\n",
       "    </tr>\n",
       "    <tr>\n",
       "      <th>94107</th>\n",
       "      <td>46.629</td>\n",
       "      <td>5</td>\n",
       "    </tr>\n",
       "    <tr>\n",
       "      <th>94103</th>\n",
       "      <td>14.983</td>\n",
       "      <td>3</td>\n",
       "    </tr>\n",
       "    <tr>\n",
       "      <th>94108</th>\n",
       "      <td>3.120</td>\n",
       "      <td>2</td>\n",
       "    </tr>\n",
       "    <tr>\n",
       "      <th>94104</th>\n",
       "      <td>1.359</td>\n",
       "      <td>2</td>\n",
       "    </tr>\n",
       "    <tr>\n",
       "      <th>94109</th>\n",
       "      <td>6.413</td>\n",
       "      <td>1</td>\n",
       "    </tr>\n",
       "    <tr>\n",
       "      <th>94133</th>\n",
       "      <td>16.246</td>\n",
       "      <td>1</td>\n",
       "    </tr>\n",
       "  </tbody>\n",
       "</table>\n",
       "</div>"
      ],
      "text/plain": [
       "       Trip_Count  Station_Count\n",
       "94105      20.311              7\n",
       "94111      10.960              7\n",
       "94102      10.150              7\n",
       "94107      46.629              5\n",
       "94103      14.983              3\n",
       "94108       3.120              2\n",
       "94104       1.359              2\n",
       "94109       6.413              1\n",
       "94133      16.246              1"
      ]
     },
     "execution_count": 8,
     "metadata": {},
     "output_type": "execute_result"
    }
   ],
   "source": [
    "graphable_data"
   ]
  },
  {
   "cell_type": "markdown",
   "metadata": {},
   "source": [
    "We made an attempt to convert the longitute and latitude data in the stations data set to zip codes but failed to find a great source. The US Postal Service offered a mapping (http://www.unitedstateszipcodes.org/zip-code-database/) but as you can see below it would either result in no zip code for a given lat and long combo or more than one zip code such that it only was prepopulating one or two of the stations we were most interested in.\n",
    "We spent more time messing with this data set than it took to eventually just fill in by hand the 15 or so zip codes we really cared about. Therefore the station data csv file in our zip file has been handedited to include that data."
   ]
  },
  {
   "cell_type": "code",
   "execution_count": 9,
   "metadata": {
    "collapsed": false,
    "scrolled": true
   },
   "outputs": [
    {
     "data": {
      "text/html": [
       "<div>\n",
       "<table border=\"1\" class=\"dataframe\">\n",
       "  <thead>\n",
       "    <tr style=\"text-align: right;\">\n",
       "      <th></th>\n",
       "      <th>zip</th>\n",
       "      <th>type</th>\n",
       "      <th>primary_city</th>\n",
       "      <th>acceptable_cities</th>\n",
       "      <th>unacceptable_cities</th>\n",
       "      <th>state</th>\n",
       "      <th>county</th>\n",
       "      <th>timezone</th>\n",
       "      <th>area_codes</th>\n",
       "      <th>latitude</th>\n",
       "      <th>longitude</th>\n",
       "      <th>world_region</th>\n",
       "      <th>country</th>\n",
       "      <th>decommissioned</th>\n",
       "      <th>estimated_population</th>\n",
       "      <th>notes</th>\n",
       "    </tr>\n",
       "  </thead>\n",
       "  <tbody>\n",
       "    <tr>\n",
       "      <th>39607</th>\n",
       "      <td>94111</td>\n",
       "      <td>STANDARD</td>\n",
       "      <td>San Francisco</td>\n",
       "      <td>NaN</td>\n",
       "      <td>NaN</td>\n",
       "      <td>CA</td>\n",
       "      <td>San Francisco County</td>\n",
       "      <td>America/Los_Angeles</td>\n",
       "      <td>415510650</td>\n",
       "      <td>37.79</td>\n",
       "      <td>-122.39</td>\n",
       "      <td>NaN</td>\n",
       "      <td>US</td>\n",
       "      <td>0</td>\n",
       "      <td>3905</td>\n",
       "      <td>NaN</td>\n",
       "    </tr>\n",
       "  </tbody>\n",
       "</table>\n",
       "</div>"
      ],
      "text/plain": [
       "         zip      type   primary_city acceptable_cities unacceptable_cities  \\\n",
       "39607  94111  STANDARD  San Francisco               NaN                 NaN   \n",
       "\n",
       "      state                county             timezone area_codes  latitude  \\\n",
       "39607    CA  San Francisco County  America/Los_Angeles  415510650     37.79   \n",
       "\n",
       "       longitude world_region country  decommissioned  estimated_population  \\\n",
       "39607    -122.39          NaN      US               0                  3905   \n",
       "\n",
       "      notes  \n",
       "39607   NaN  "
      ]
     },
     "execution_count": 9,
     "metadata": {},
     "output_type": "execute_result"
    }
   ],
   "source": [
    "# some code figuring out how to get a single zip code\n",
    "zip_df = su.read_zip_code_data()\n",
    "zip_df[(zip_df.latitude == 37.79) & (zip_df.longitude == -122.39) & (zip_df.type=='STANDARD')]"
   ]
  },
  {
   "cell_type": "code",
   "execution_count": 13,
   "metadata": {
    "collapsed": false
   },
   "outputs": [
    {
     "data": {
      "text/plain": [
       "0      NaN\n",
       "1    95113\n",
       "2    95113\n",
       "3    95113\n",
       "4      NaN\n",
       "5    95113\n",
       "6    95113\n",
       "7      NaN\n",
       "8      NaN\n",
       "9      NaN\n",
       "dtype: float64"
      ]
     },
     "execution_count": 13,
     "metadata": {},
     "output_type": "execute_result"
    }
   ],
   "source": [
    "# Attempt to get long and lat to zip code from us postal service data\n",
    "def proccess_station_row(row):  \n",
    "    df = zip_df[(zip_df.latitude == round(row.lat,2)) & (zip_df.longitude == round(row.long, 2)) & (zip_df.type=='STANDARD')]\n",
    "    if len(df) == 1:\n",
    "        result = df.zip.iloc[0]\n",
    "    else:\n",
    "        result = np.NaN\n",
    "    return result\n",
    "\n",
    "station_data.apply(proccess_station_row, axis=1).head(10)\n"
   ]
  },
  {
   "cell_type": "code",
   "execution_count": 11,
   "metadata": {
    "collapsed": false
   },
   "outputs": [
    {
     "data": {
      "image/png": "iVBORw0KGgoAAAANSUhEUgAAAmIAAAFeCAYAAAAmBnOtAAAABHNCSVQICAgIfAhkiAAAAAlwSFlz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\nZmZmZpbI/wdtlF0XhsBtQQAAAABJRU5ErkJggg==\n",
      "text/plain": [
       "<matplotlib.figure.Figure at 0x10dc8dba8>"
      ]
     },
     "metadata": {},
     "output_type": "display_data"
    }
   ],
   "source": [
    "zip_code_bike_counts = su.get_bike_counts_by_zip_code(station_data)\n",
    "zip_code_trip_counts.index = [int(x) for x in zip_code_trip_counts.index]\n",
    "graphable_data = zip_code_bike_counts.join(zip_code_trip_counts)\n",
    "graphable_data.sort_values(\"Trip_Count\", ascending=False, inplace=True)\n",
    "graphable_data.Trip_Count = graphable_data.Trip_Count / 1000\n",
    "ax = graphable_data.dockcount.plot(kind=\"bar\", color=\"Green\", legend=True, label=\"Bike Count\", figsize=(10,5),\n",
    "                                  title=\"Rider and Bike Counts by Zip Code Ordered by Number of Riders\")\n",
    "graphable_data.Trip_Count.plot(kind=\"bar\", color=\"Blue\", legend=True, label=\"Trip Count\")\n",
    "ax.set_xlabel(\"Zip Code\")\n",
    "ax.set_ylabel(\"Count\")\n",
    "plt.gcf().subplots_adjust(bottom=0.15)\n",
    "fig = ax.get_figure()\n",
    "fig.savefig('bikes_count_by_zip_code.png')"
   ]
  }
 ],
 "metadata": {
  "kernelspec": {
   "display_name": "Python 3",
   "language": "python",
   "name": "python3"
  },
  "language_info": {
   "codemirror_mode": {
    "name": "ipython",
    "version": 3
   },
   "file_extension": ".py",
   "mimetype": "text/x-python",
   "name": "python",
   "nbconvert_exporter": "python",
   "pygments_lexer": "ipython3",
   "version": "3.5.1"
  }
 },
 "nbformat": 4,
 "nbformat_minor": 0
}
