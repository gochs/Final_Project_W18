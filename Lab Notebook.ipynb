{
 "cells": [
  {
   "cell_type": "markdown",
   "metadata": {},
   "source": [
    "# Project2 Lab Notebook (Shawn Kessler, Giles Ochs, Brian Schneider)"
   ]
  },
  {
   "cell_type": "code",
   "execution_count": 1,
   "metadata": {
    "collapsed": false
   },
   "outputs": [],
   "source": [
    "%load_ext autoreload\n",
    "%autoreload 2\n",
    "%matplotlib inline\n",
    "import shared_utils as su\n",
    "import numpy as np\n",
    "import pandas as pd\n",
    "import datetime\n",
    "import matplotlib.pyplot as plt"
   ]
  },
  {
   "cell_type": "markdown",
   "metadata": {},
   "source": [
    "Workflow Note: To avoid the chaos of notebooks and git we made three separate notebooks, one for each developer. The developer assigned a given notebook was the only person allowed to edit that notebook. Any code that seemed like others might find useful was put into a python library file. Otherwise if it was just a smaller bit of code you could go in and copy and paste what someone else did in their notebook. This worked well and we never had any major git hub merging issues or difficulties. The final lab notebook might be the exception to this rule as we attempt to merge our separate notebooks into a single file."
   ]
  },
  {
   "cell_type": "code",
   "execution_count": 3,
   "metadata": {
    "collapsed": false
   },
   "outputs": [
    {
     "data": {
      "text/html": [
       "<div>\n",
       "<table border=\"1\" class=\"dataframe\">\n",
       "  <thead>\n",
       "    <tr style=\"text-align: right;\">\n",
       "      <th></th>\n",
       "      <th>Trip_ID</th>\n",
       "      <th>Duration</th>\n",
       "      <th>Start_Date</th>\n",
       "      <th>Start_Station</th>\n",
       "      <th>Start_Terminal</th>\n",
       "      <th>End_Date</th>\n",
       "      <th>End_Station</th>\n",
       "      <th>End_Terminal</th>\n",
       "      <th>Bike_#</th>\n",
       "      <th>Subscriber_Type</th>\n",
       "      <th>Zip_Code</th>\n",
       "    </tr>\n",
       "  </thead>\n",
       "  <tbody>\n",
       "    <tr>\n",
       "      <th>0</th>\n",
       "      <td>913460</td>\n",
       "      <td>765</td>\n",
       "      <td>2015-08-31 23:26:00</td>\n",
       "      <td>Harry Bridges Plaza (Ferry Building)</td>\n",
       "      <td>50</td>\n",
       "      <td>2015-08-31 23:39:00</td>\n",
       "      <td>San Francisco Caltrain (Townsend at 4th)</td>\n",
       "      <td>70</td>\n",
       "      <td>288</td>\n",
       "      <td>Subscriber</td>\n",
       "      <td>2139</td>\n",
       "    </tr>\n",
       "    <tr>\n",
       "      <th>1</th>\n",
       "      <td>913459</td>\n",
       "      <td>1036</td>\n",
       "      <td>2015-08-31 23:11:00</td>\n",
       "      <td>San Antonio Shopping Center</td>\n",
       "      <td>31</td>\n",
       "      <td>2015-08-31 23:28:00</td>\n",
       "      <td>Mountain View City Hall</td>\n",
       "      <td>27</td>\n",
       "      <td>35</td>\n",
       "      <td>Subscriber</td>\n",
       "      <td>95032</td>\n",
       "    </tr>\n",
       "    <tr>\n",
       "      <th>2</th>\n",
       "      <td>913455</td>\n",
       "      <td>307</td>\n",
       "      <td>2015-08-31 23:13:00</td>\n",
       "      <td>Post at Kearny</td>\n",
       "      <td>47</td>\n",
       "      <td>2015-08-31 23:18:00</td>\n",
       "      <td>2nd at South Park</td>\n",
       "      <td>64</td>\n",
       "      <td>468</td>\n",
       "      <td>Subscriber</td>\n",
       "      <td>94107</td>\n",
       "    </tr>\n",
       "    <tr>\n",
       "      <th>3</th>\n",
       "      <td>913454</td>\n",
       "      <td>409</td>\n",
       "      <td>2015-08-31 23:10:00</td>\n",
       "      <td>San Jose City Hall</td>\n",
       "      <td>10</td>\n",
       "      <td>2015-08-31 23:17:00</td>\n",
       "      <td>San Salvador at 1st</td>\n",
       "      <td>8</td>\n",
       "      <td>68</td>\n",
       "      <td>Subscriber</td>\n",
       "      <td>95113</td>\n",
       "    </tr>\n",
       "    <tr>\n",
       "      <th>4</th>\n",
       "      <td>913453</td>\n",
       "      <td>789</td>\n",
       "      <td>2015-08-31 23:09:00</td>\n",
       "      <td>Embarcadero at Folsom</td>\n",
       "      <td>51</td>\n",
       "      <td>2015-08-31 23:22:00</td>\n",
       "      <td>Embarcadero at Sansome</td>\n",
       "      <td>60</td>\n",
       "      <td>487</td>\n",
       "      <td>Customer</td>\n",
       "      <td>9069</td>\n",
       "    </tr>\n",
       "  </tbody>\n",
       "</table>\n",
       "</div>"
      ],
      "text/plain": [
       "   Trip_ID  Duration          Start_Date  \\\n",
       "0   913460       765 2015-08-31 23:26:00   \n",
       "1   913459      1036 2015-08-31 23:11:00   \n",
       "2   913455       307 2015-08-31 23:13:00   \n",
       "3   913454       409 2015-08-31 23:10:00   \n",
       "4   913453       789 2015-08-31 23:09:00   \n",
       "\n",
       "                          Start_Station  Start_Terminal            End_Date  \\\n",
       "0  Harry Bridges Plaza (Ferry Building)              50 2015-08-31 23:39:00   \n",
       "1           San Antonio Shopping Center              31 2015-08-31 23:28:00   \n",
       "2                        Post at Kearny              47 2015-08-31 23:18:00   \n",
       "3                    San Jose City Hall              10 2015-08-31 23:17:00   \n",
       "4                 Embarcadero at Folsom              51 2015-08-31 23:22:00   \n",
       "\n",
       "                                End_Station  End_Terminal  Bike_#  \\\n",
       "0  San Francisco Caltrain (Townsend at 4th)            70     288   \n",
       "1                   Mountain View City Hall            27      35   \n",
       "2                         2nd at South Park            64     468   \n",
       "3                       San Salvador at 1st             8      68   \n",
       "4                    Embarcadero at Sansome            60     487   \n",
       "\n",
       "  Subscriber_Type Zip_Code  \n",
       "0      Subscriber     2139  \n",
       "1      Subscriber    95032  \n",
       "2      Subscriber    94107  \n",
       "3      Subscriber    95113  \n",
       "4        Customer     9069  "
      ]
     },
     "execution_count": 3,
     "metadata": {},
     "output_type": "execute_result"
    }
   ],
   "source": [
    "df = su.read_trip_data()\n",
    "df.head()"
   ]
  },
  {
   "cell_type": "markdown",
   "metadata": {
    "collapsed": true
   },
   "source": [
    "Basing anything on a customers zip code seems to require some cleaning up of that field. Rather than replace the field values I've opted to create a new column with scrubbed data. This process was challenging because the zip code appeared not have any validation done on it when entered. There were blanks, the text string \"nil\" numbers with fewer than five digits and extended zip codes with dashes in them. We had wanted to set all invalid zip codes to NaN but that was difficult to do in a straightforward manner because not all of the entries could be represented as numbers. So the cleaning code was taken out of the notebook and moved into our python library so that everyone could easily reference it in seperate notebooks."
   ]
  },
  {
   "cell_type": "code",
   "execution_count": null,
   "metadata": {
    "collapsed": false
   },
   "outputs": [],
   "source": [
    "trip_data = su.read_trip_data(False)\n",
    "station_data = su.read_station_data()\n",
    "su.clean_zip_codes(trip_data)"
   ]
  },
  {
   "cell_type": "markdown",
   "metadata": {},
   "source": [
    "Doing the join below on zip_code_trip_counts and zip_code_station_counts was problematic until we made the zipcode the index on both dataframes. Prior to making the zip code the index we tried using the \"on\" parameter to join like this:\n",
    "zip_code_trip_counts.join(zip_code_station_counts, on=\"Zip_Code\") \n",
    "This always failed (even when specifying a left and right post fix for the overlapping Zip_Code column. The documentation made it seem like this should work. After getting the join to work on the zip code indexes we didn't have time to further debug the other technique and so it's still a mystery how to join on something other than the index of two dataframes."
   ]
  },
  {
   "cell_type": "code",
   "execution_count": null,
   "metadata": {
    "collapsed": false
   },
   "outputs": [],
   "source": [
    "# Counts of how often a customer is from a san francisco zip code\n",
    "zip_code_trip_counts = su.get_trip_counts_by_zip_code(trip_data)\n",
    "\n",
    "# Counts of how many stations are in a zip code\n",
    "zip_code_station_counts = su.get_station_counts_by_zip_code(station_data)\n",
    "# originally tried a two different filtering techniques. Not sure which is better.\n",
    "#sf_only_customer_trip_data = trip_data.groupby(\"Clean_Zip_Code\").filter(lambda x: x.name in su.SF_ZIP_CODES)\n",
    "#sf_only_customer_trip_data = trip_data[trip_data.Clean_Zip_Code.map(lambda x : x in su.SF_ZIP_CODES)]\n",
    "\n",
    "# why couldn't I reset indexes and do: zip_code_trip_counts.join(zip_code_station_counts, on=\"Zip_Code\") \n",
    "trip_and_station_counts = zip_code_trip_counts.join(zip_code_station_counts)\n",
    "trip_and_station_counts.fillna(0, inplace=True)"
   ]
  },
  {
   "cell_type": "markdown",
   "metadata": {},
   "source": [
    "Our first graph! Here we had to make some business decision about how to represent rides since they are not directly representing in the data. Each trip has a rider type and their home zip code but no unique ids for the riders. We decide that the number of trips would likely be proportial to the number of riders and worked with that. Below we scale the number of trips down by 1000 to represent a rider count and to allow us to graph that number along with station and bike counts without the rider count being so big that it would be hard to read the counts for the bikes and stations.\n",
    "\n",
    "From a technical standpoint the most unexpected part was that we need to adjust the bottom of our graphs because when they are saved a file they our x-axis label was getting cut off. We thank Google for its contribution to our success.\n",
    "\n",
    "We also struggled making each zip code have two bars instead of a single one. We eventually settled on overlaying the two bars but another good option that we never did figure out was how to put to bars side by side if they're coming from two different dataframes."
   ]
  },
  {
   "cell_type": "code",
   "execution_count": null,
   "metadata": {
    "collapsed": false
   },
   "outputs": [],
   "source": [
    "graphable_data = trip_and_station_counts.head(12).copy()\n",
    "graphable_data.Trip_Count = graphable_data.Trip_Count / 1000\n",
    "graphable_data.index = [int(x) for x in graphable_data.index]\n",
    "ax = graphable_data.Trip_Count.plot(kind=\"bar\", label=\"Estimated Rider Count\", legend=True, figsize=(10,5),\n",
    "                                    title=\"Rider and Station Counts by Zip Code Ordered by Number of Riders\")\n",
    "graphable_data.Station_Count.plot(kind=\"bar\", label=\"Station Count\", color=\"Green\", legend=True)\n",
    "ax.set_xlabel(\"Zip Codes\")\n",
    "ax.set_ylabel(\"Count\")\n",
    "# prevents the x label from getting cut off in png file\n",
    "plt.gcf().subplots_adjust(bottom=0.15)\n",
    "fig = ax.get_figure()\n",
    "fig.savefig('trips_no_stations.png')"
   ]
  },
  {
   "cell_type": "code",
   "execution_count": null,
   "metadata": {
    "collapsed": false
   },
   "outputs": [],
   "source": [
    "graphable_data = trip_and_station_counts.sort_values(\"Station_Count\", ascending=False).head(9).copy()\n",
    "graphable_data.Trip_Count = graphable_data.Trip_Count / 1000\n",
    "graphable_data.index = [int(x) for x in graphable_data.index]\n",
    "ax = graphable_data.Trip_Count.plot(kind=\"bar\", label=\"Estimated Rider Count\", legend=True, figsize=(10,5),\n",
    "                                    title=\"Rider and Station Counts by Zip Code Ordered by Number of Stations\")\n",
    "graphable_data.Station_Count.plot(kind=\"bar\", label=\"Station Count\", color=\"Green\", legend=True)\n",
    "ax.set_xlabel(\"Zip Codes\")\n",
    "ax.set_ylabel(\"Count\")\n",
    "plt.gcf().subplots_adjust(bottom=0.15)\n",
    "fig = ax.get_figure()\n",
    "fig.savefig('ordered_by_station_count.png')"
   ]
  },
  {
   "cell_type": "markdown",
   "metadata": {},
   "source": [
    "Interestingly, during analysis it was often a lot easier to understand the data when looking at it in table form, especially as numbers approached zero, or to really see small differences (like seeing 1 vs 2 is hard to do when your dealing with a axis that is 50 tall."
   ]
  },
  {
   "cell_type": "code",
   "execution_count": null,
   "metadata": {
    "collapsed": false
   },
   "outputs": [],
   "source": [
    "graphable_data"
   ]
  },
  {
   "cell_type": "markdown",
   "metadata": {},
   "source": [
    "We made an attempt to convert the longitute and latitude data in the stations data set to zip codes but failed to find a great source. The US Postal Service offered a mapping (http://www.unitedstateszipcodes.org/zip-code-database/) but as you can see below it would either result in no zip code for a given lat and long combo or more than one zip code such that it only was prepopulating one or two of the stations we were most interested in.\n",
    "We spent more time messing with this data set than it took to eventually just fill in by hand the 15 or so zip codes we really cared about. Therefore the station data csv file in our zip file has been handedited to include that data."
   ]
  },
  {
   "cell_type": "code",
   "execution_count": null,
   "metadata": {
    "collapsed": false
   },
   "outputs": [],
   "source": [
    "# some code figuring out how to get a single zip code\n",
    "zip_df = su.read_zip_code_data()\n",
    "zip_df[(zip_df.latitude == 37.79) & (zip_df.longitude == -122.39) & (zip_df.type=='STANDARD')]"
   ]
  },
  {
   "cell_type": "code",
   "execution_count": null,
   "metadata": {
    "collapsed": false
   },
   "outputs": [],
   "source": [
    "# Attempt to get long and lat to zip code from us postal service data\n",
    "def proccess_station_row(row):  \n",
    "    df = zip_df[(zip_df.latitude == round(row.lat,2)) & (zip_df.longitude == round(row.long, 2)) & (zip_df.type=='STANDARD')]\n",
    "    if len(df) == 1:\n",
    "        result = df.zip.iloc[0]\n",
    "    else:\n",
    "        result = np.NaN\n",
    "    return result\n",
    "\n",
    "station_data.apply(proccess_station_row, axis=1).head(10)\n"
   ]
  },
  {
   "cell_type": "code",
   "execution_count": null,
   "metadata": {
    "collapsed": false
   },
   "outputs": [],
   "source": [
    "zip_code_bike_counts = su.get_bike_counts_by_zip_code(station_data)\n",
    "zip_code_trip_counts.index = [int(x) for x in zip_code_trip_counts.index]\n",
    "graphable_data = zip_code_bike_counts.join(zip_code_trip_counts)\n",
    "graphable_data.sort_values(\"Trip_Count\", ascending=False, inplace=True)\n",
    "graphable_data.Trip_Count = graphable_data.Trip_Count / 1000\n",
    "ax = graphable_data.dockcount.plot(kind=\"bar\", color=\"Green\", legend=True, label=\"Bike Count\", figsize=(10,5),\n",
    "                                  title=\"Rider and Bike Counts by Zip Code Ordered by Number of Riders\")\n",
    "graphable_data.Trip_Count.plot(kind=\"bar\", color=\"Blue\", legend=True, label=\"Trip Count\")\n",
    "ax.set_xlabel(\"Zip Code\")\n",
    "ax.set_ylabel(\"Count\")\n",
    "plt.gcf().subplots_adjust(bottom=0.15)\n",
    "fig = ax.get_figure()\n",
    "fig.savefig('bikes_count_by_zip_code.png')"
   ]
  },
  {
   "cell_type": "raw",
   "metadata": {},
   "source": [
    "Travel Behavior"
   ]
  },
  {
   "cell_type": "code",
   "execution_count": null,
   "metadata": {
    "collapsed": false
   },
   "outputs": [],
   "source": [
    "subscribers = df[df['Subscriber_Type'] == 'Subscriber'].copy()\n",
    "customers = df[df['Subscriber_Type'] == 'Customer'].copy()\n",
    "subscribers['Full_Route'] = subscribers['Start_Station'] + \" & \" + subscribers['End_Station']\n",
    "subscribers[\"date\"] = subscribers[\"Start_Date\"].map(pd.Timestamp.date)\n",
    "customers[\"date\"] = customers[\"Start_Date\"].map(pd.Timestamp.date)\n",
    "subscribers[\"hour\"] = subscribers[\"Start_Date\"].map(lambda x: x.hour)\n",
    "customers[\"hour\"] = customers[\"Start_Date\"].map(lambda x: x.hour)"
   ]
  },
  {
   "cell_type": "markdown",
   "metadata": {},
   "source": [
    "We initially tried to understand route behavior. How does volume change, day-to-day? Which stations do riders start and stop from? When do people tend to travel? Are there particular routes that are especially popular, that may require us to think about those stations differently?\n",
    "\n",
    "What we learned is that behavior is surprisingly predictable.\n",
    "\n",
    "Below you'll find how frequently riders ride. Almost each week rider volume hits the same peak in routes (especially the case for subscribers). On holidays (see: Thanksgiving, Christmas), subscribers -- as we'd suspect -- don't tend to ride as much. It turns out, bike share subscribers are by-and-large, commuters.\n",
    "\n",
    "With this inquiry, we would like to be able to go deeper, to understand subscribers and customers by user ID. Are these the same people riding the same volume every day? Or is there a shift -- are new subscribers taking the place of old? We can't really get at those questions here, because the data isn't available to us."
   ]
  },
  {
   "cell_type": "code",
   "execution_count": null,
   "metadata": {
    "collapsed": false
   },
   "outputs": [],
   "source": [
    "subscribers['date'].value_counts().plot(figsize = (12,8), legend=True, color=\"Green\", label='Subscribers', \n",
    "                                        title='Route Starts By Day')\n",
    "customers['date'].value_counts().plot(figsize = (12,8), legend=True, label='Customers')"
   ]
  },
  {
   "cell_type": "markdown",
   "metadata": {},
   "source": [
    "We learned that subscribers tend to travel from commuter hubs (Caltrain, Ferry Building) to popular company sites (7th & Townsend, for example, is where Adobe, Zynga, Thumbtack, and many other relevant companies reside).\n",
    "\n",
    "We initially intended to map out these routes, but that ended up beyond the scope of the assignment."
   ]
  },
  {
   "cell_type": "code",
   "execution_count": null,
   "metadata": {
    "collapsed": false
   },
   "outputs": [],
   "source": [
    "subscribers['Full_Route'].value_counts()[subscribers['Full_Route'].value_counts() > 1500].plot(kind=\"barh\", figsize=(12,8), \n",
    "                                                                                               title=\"Most Popular Routes (Subscribers)\", \n",
    "                                                                                               color='Green', legend=True, \n",
    "                                                                                               label=\"Route Volume By Start & Stop\")"
   ]
  },
  {
   "cell_type": "markdown",
   "metadata": {},
   "source": [
    "We learned that riders tend to ride during rush hour windows -- mornings before work, and evenings after work. Customers tend to ride in the early afternoon.\n",
    "\n",
    "The biggest challenge with getting this data in the correct format dealt mostly with datetime conversion -- we reference both date and hour, but both took awhile to get to."
   ]
  },
  {
   "cell_type": "code",
   "execution_count": null,
   "metadata": {
    "collapsed": false
   },
   "outputs": [],
   "source": [
    "ax2 = subscribers.hour.value_counts().sort_index().plot(figsize=(10,5), kind = \"area\", color='Green', legend=True, \n",
    "                                                        title=\"Bike Share By Hour of Day, Subscribers vs. Customers\", l\n",
    "                                                        abel=\"Subscribers\")\n",
    "bd2 = customers.hour.value_counts().sort_index().plot(figsize=(10,5), kind = \"area\", legend=True, label=\"Customers\")\n",
    "\n",
    "ax2.set_xlabel(\"Hour of Day\")\n",
    "ax2.set_ylabel(\"Ride Starts\")\n",
    "fig = ax2.get_figure()\n",
    "fig.savefig('ridersByHour.png')"
   ]
  },
  {
   "cell_type": "markdown",
   "metadata": {},
   "source": [
    "Another question we wanted to explore was whether significant one directional traffic occured.  That could either mean a station that has significantly more trips starting at it than ending, or vice versa.  To do that, we needed to import that status dataset, which shows the status of each station at every minute of the day.  As you might guess, this file is BIG."
   ]
  },
  {
   "cell_type": "code",
   "execution_count": 4,
   "metadata": {
    "collapsed": false,
    "scrolled": true
   },
   "outputs": [
    {
     "data": {
      "text/html": [
       "<div>\n",
       "<table border=\"1\" class=\"dataframe\">\n",
       "  <thead>\n",
       "    <tr style=\"text-align: right;\">\n",
       "      <th></th>\n",
       "      <th>station_id</th>\n",
       "      <th>bikes_available</th>\n",
       "      <th>docks_available</th>\n",
       "      <th>time</th>\n",
       "    </tr>\n",
       "  </thead>\n",
       "  <tbody>\n",
       "    <tr>\n",
       "      <th>0</th>\n",
       "      <td>2</td>\n",
       "      <td>2</td>\n",
       "      <td>25</td>\n",
       "      <td>2013/08/29 12:06:01</td>\n",
       "    </tr>\n",
       "    <tr>\n",
       "      <th>1</th>\n",
       "      <td>2</td>\n",
       "      <td>2</td>\n",
       "      <td>25</td>\n",
       "      <td>2013/08/29 12:07:01</td>\n",
       "    </tr>\n",
       "    <tr>\n",
       "      <th>2</th>\n",
       "      <td>2</td>\n",
       "      <td>2</td>\n",
       "      <td>25</td>\n",
       "      <td>2013/08/29 12:08:01</td>\n",
       "    </tr>\n",
       "    <tr>\n",
       "      <th>3</th>\n",
       "      <td>2</td>\n",
       "      <td>2</td>\n",
       "      <td>25</td>\n",
       "      <td>2013/08/29 12:09:01</td>\n",
       "    </tr>\n",
       "    <tr>\n",
       "      <th>4</th>\n",
       "      <td>2</td>\n",
       "      <td>2</td>\n",
       "      <td>25</td>\n",
       "      <td>2013/08/29 12:10:01</td>\n",
       "    </tr>\n",
       "  </tbody>\n",
       "</table>\n",
       "</div>"
      ],
      "text/plain": [
       "   station_id  bikes_available  docks_available                 time\n",
       "0           2                2               25  2013/08/29 12:06:01\n",
       "1           2                2               25  2013/08/29 12:07:01\n",
       "2           2                2               25  2013/08/29 12:08:01\n",
       "3           2                2               25  2013/08/29 12:09:01\n",
       "4           2                2               25  2013/08/29 12:10:01"
      ]
     },
     "execution_count": 4,
     "metadata": {},
     "output_type": "execute_result"
    }
   ],
   "source": [
    "# This file was too large to upload on github. Please navigate to the following link \n",
    "# [https://drive.google.com/open?id=0B9oI9y1i1FtZUU5TdXV2OUVkVkE] and \n",
    "# then update with your file directory to read in.\n",
    "\n",
    "status = pd.read_csv('201402_status_data.csv')\n",
    "status.head()\n",
    "#will need to be changed to remote address"
   ]
  },
  {
   "cell_type": "markdown",
   "metadata": {},
   "source": [
    "Once imported, we needed to perform the basic math of subtracting the total number of trips ended at a given station from the trips started there.  I didn't do this in the most panda way, but simply grouped the trips by station, and then aggregated the trips started and ended at each station. From there, I subtracted them, and turned it back into a dataframe."
   ]
  },
  {
   "cell_type": "code",
   "execution_count": 23,
   "metadata": {
    "collapsed": false
   },
   "outputs": [],
   "source": [
    "start = df.groupby('Start_Station').Trip_ID.count()\n",
    "end =  df.groupby('End_Station').Trip_ID.count() \n",
    "diff = start - end\n",
    "diff = diff.sort_values()"
   ]
  },
  {
   "cell_type": "code",
   "execution_count": 24,
   "metadata": {
    "collapsed": false
   },
   "outputs": [],
   "source": [
    "diff = diff.to_frame(name=None)"
   ]
  },
  {
   "cell_type": "markdown",
   "metadata": {},
   "source": [
    "As shown below, the above analysis shows that there is a significant occurence of one directional traffic.  Below, we selected out the stations that most strongly demonstrated this.  Some of the results aren't suprising, like Grant Ave, which is at elevation, not having bikes returned to it. In comparison, the caltrain station was surprising, as you would think the train traffic.\n",
    "\n",
    "One python/pandas problem we encountered with the following was bar color.  Ideally, I would have like to group the negative and positive numbers as two different colors. But, in attempting several methods couldn't get this to work. One thing that we attempt was similiar to the coloring method below, where you assign \"my_colors\" in order.  For some reason though, this would actually assign the colors out of order - there would be 8 green and 8 blue, but appeard randomly assigned."
   ]
  },
  {
   "cell_type": "code",
   "execution_count": 25,
   "metadata": {
    "collapsed": false
   },
   "outputs": [
    {
     "data": {
      "image/png": "[encoded data removed]",
      "text/plain": [
       "<matplotlib.figure.Figure at 0x1720c2f60>"
      ]
     },
     "metadata": {},
     "output_type": "display_data"
    }
   ],
   "source": [
    "ax = diff.Trip_ID[diff.Trip_ID.abs() > 800].plot(kind='barh', figsize =(15,10), legend=True, label='Difference'\n",
    "                                                 title='Rides Started less Rides Ender per Station')\n",
    "plt.gcf().subplots_adjust(left=0.20)\n",
    "fig = ax.get_figure()\n",
    "ax.set_xlabel(\"Difference\")\n",
    "fig.savefig('startstopdiff.png')"
   ]
  },
  {
   "cell_type": "markdown",
   "metadata": {},
   "source": [
    "As mentioned in our PDF, one of the most interesting thing we wanted to explore regarding the one directional traffic was how it affected users.  Were stations that had a disproportionate number of trips started running out of bikes? And were stations that were sinks running out of docks? \n",
    "\n",
    "To do this, we took the station status data and grouped them by station and bikes (or docks) available. We then specifically look at the stations that had extreme one-directional traffic (above), where they had an instance of no bikes (or docks).  The goal here was to plot the groups together, and see if the one directional activity was a driver of significantly different availability behavior. "
   ]
  },
  {
   "cell_type": "code",
   "execution_count": 6,
   "metadata": {
    "collapsed": true
   },
   "outputs": [],
   "source": [
    "status_indexed = status.copy()\n",
    "status_indexed.index = (range(len(status)))"
   ]
  },
  {
   "cell_type": "code",
   "execution_count": 7,
   "metadata": {
    "collapsed": false
   },
   "outputs": [],
   "source": [
    "# Finding Number of Instances (minutes) the stations with the greateast positive trip difference had zero bikes\n",
    "# * 2nd at Folsom is Terminal 62\n",
    "# * Grant Avenue at Columus is 73\n",
    "# * Powel at Post is 71\n",
    "# * Temporary Transbay Terminal (Howard at Beale) is 55\n",
    "# * Market at 10th 67\n",
    "# * Beale at Market 56\n",
    "\n",
    "folsom = status_indexed.groupby(['station_id', 'bikes_available']).get_group((62, 0)).bikes_available.count()\n",
    "grant = status_indexed.groupby(['station_id', 'bikes_available']).get_group((73, 0)).bikes_available.count()\n",
    "powel = status_indexed.groupby(['station_id', 'bikes_available']).get_group((71, 0)).bikes_available.count()\n",
    "transbay = status_indexed.groupby(['station_id', 'bikes_available']).get_group((55, 0)).bikes_available.count()\n",
    "tenth = status_indexed.groupby(['station_id', 'bikes_available']).get_group((67, 0)).bikes_available.count()\n",
    "beale = transbay = status_indexed.groupby(['station_id', 'bikes_available']).get_group((56, 0)).bikes_available.count()"
   ]
  },
  {
   "cell_type": "code",
   "execution_count": 8,
   "metadata": {
    "collapsed": true
   },
   "outputs": [],
   "source": [
    "# Finding Number of Instances (minutes) the stations with the greateast negative trip difference had zero bikes\n",
    "# * Townsend at 7th is 65\n",
    "# * San Francisco Caltrain (Townsend at 4th) is 70\n",
    "# * Market at Sansome is 77\n",
    "# * 2nd at Townsend is 61\n",
    "# * Embarcadero at Vallejo is 48\n",
    "# * Embarcadero at Sansone is 60\n",
    "\n",
    "\n",
    "townsend = status_indexed.groupby(['station_id', 'bikes_available']).get_group((65, 0)).bikes_available.count()\n",
    "caltrain = status_indexed.groupby(['station_id', 'bikes_available']).get_group((70, 0)).bikes_available.count()\n",
    "market = status_indexed.groupby(['station_id', 'bikes_available']).get_group((77, 0)).bikes_available.count()\n",
    "second = status_indexed.groupby(['station_id', 'bikes_available']).get_group((61, 0)).bikes_available.count()\n",
    "vallejo = status_indexed.groupby(['station_id', 'bikes_available']).get_group((48, 0)).bikes_available.count()\n",
    "sansone = status_indexed.groupby(['station_id', 'bikes_available']).get_group((60, 0)).bikes_available.count()"
   ]
  },
  {
   "cell_type": "code",
   "execution_count": 22,
   "metadata": {
    "collapsed": false
   },
   "outputs": [
    {
     "data": {
      "image/png": "[encoded data removed]",
      "text/plain": [
       "<matplotlib.figure.Figure at 0x17275f4a8>"
      ]
     },
     "metadata": {},
     "output_type": "display_data"
    }
   ],
   "source": [
    "stations = [1,2,3,4,5,6,7,8,9,10,11,12]\n",
    "no_bikes = [grant, folsom, powel, beale, tenth, transbay, sansone, vallejo, second, townsend, market, caltrain]\n",
    "\n",
    "LABELS = ['Grant Avenue at Columbus Avenue', '2nd at Folsom', 'Powell at Post (Union Square)', 'Beale at Market', \n",
    "          'Market at 10th', 'Temporary Transbay Terminal (Howard at Beale)', 'Embarcadero at Sansone', 'Embarcadero at Vallejo', \n",
    "          '2nd at Townsend' ,'Townsend at 7th', 'Market at Sansome','San Francisco Caltrain (Townsend at 4th)']\n",
    "my_colors = ['b', 'b', 'b', 'b', 'b', 'b', 'g','g','g','g','g','g']\n",
    "ax = plt.bar(stations, no_bikes, align='center', color = my_colors)\n",
    "plt.xticks(stations, LABELS, rotation=90)\n",
    "plt.title('Zero Bikes Available at Stations')\n",
    "plt.xlabel('Station')\n",
    "plt.ylabel('Minutes with Zero Bikes Available')\n",
    "plt.show()\n",
    "\n",
    "\n",
    "# line_up, = plt.plot([1,2,3], label='Line 2')\n",
    "# line_down, = plt.plot([3,2,1], label='Line 1')\n",
    "# plt.legend([line_up, line_down], ['Line Up', 'Line Down'])\n",
    "\n",
    "# handles, labels = ax.get_legend_handles_labels()\n",
    "# ax.legend(handles, labels)\n",
    "\n",
    "# figure = ax.get_figure()\n",
    "# figure.savefig('no_bikes.png')\n",
    "# won't save?"
   ]
  },
  {
   "cell_type": "code",
   "execution_count": null,
   "metadata": {
    "collapsed": true
   },
   "outputs": [],
   "source": [
    "# Finding Number of Instances (minutes) the stations with the greateast positive trip difference had zero stations\n",
    "# * 2nd at Folsom is Terminal 62\n",
    "# * Grant Avenue at Columus is 73\n",
    "# * Powel at Post is 71\n",
    "# * Temporary Transbay Terminal (Howard at Beale) is 55\n",
    "# * Market at 10th 67\n",
    "# * Beale at Market 56\n",
    "\n",
    "folsom1 = status_indexed.groupby(['station_id', 'docks_available']).get_group((62, 0)).bikes_available.count()\n",
    "grant1 = status_indexed.groupby(['station_id', 'docks_available']).get_group((73, 0)).bikes_available.count()\n",
    "powel1 = status_indexed.groupby(['station_id', 'docks_available']).get_group((71, 0)).bikes_available.count()\n",
    "transbay1 = status_indexed.groupby(['station_id', 'docks_available']).get_group((55, 0)).bikes_available.count()\n",
    "tenth1 = status_indexed.groupby(['station_id', 'docks_available']).get_group((67, 0)).bikes_available.count()\n",
    "beale1 = transbay = status_indexed.groupby(['station_id', 'docks_available']).get_group((56, 0)).bikes_available.count()"
   ]
  },
  {
   "cell_type": "code",
   "execution_count": null,
   "metadata": {
    "collapsed": true
   },
   "outputs": [],
   "source": [
    "# Finding Number of Instances (minutes) the stations with the greateast negativezero stations trip difference had zero stations\n",
    "# * Townsend at 7th is 65\n",
    "# * San Francisco Caltrain (Townsend at 4th) is 70\n",
    "# * Market at Sansome is 77\n",
    "# * 2nd at Townsend is 61\n",
    "# * Embarcadero at Vallejo is 48\n",
    "# * Embarcadero at Sansone is 60\n",
    "\n",
    "\n",
    "townsend1 = status_indexed.groupby(['station_id', 'docks_available']).get_group((65, 0)).bikes_available.count()\n",
    "caltrain1 = status_indexed.groupby(['station_id', 'docks_available']).get_group((70, 0)).bikes_available.count()\n",
    "market1 = status_indexed.groupby(['station_id', 'docks_available']).get_group((77, 0)).bikes_available.count()\n",
    "second1 = status_indexed.groupby(['station_id', 'docks_available']).get_group((61, 0)).bikes_available.count()\n",
    "vallejo1 = status_indexed.groupby(['station_id', 'docks_available']).get_group((48, 0)).bikes_available.count()\n",
    "sansone1 = status_indexed.groupby(['station_id', 'docks_available']).get_group((60, 0)).bikes_available.count()"
   ]
  },
  {
   "cell_type": "code",
   "execution_count": null,
   "metadata": {
    "collapsed": false
   },
   "outputs": [],
   "source": [
    "stations = [1,2,3,4,5,6,7,8,9,10,11,12]\n",
    "no_bikes = [grant1, folsom1, powel1, beale1, tenth1, transbay1, sansone1, vallejo1, second1, townsend1, market1, caltrain1]\n",
    "\n",
    "LABELS = ['Grant Avenue at Columbus Avenue', '2nd at Folsom', 'Powell at Post (Union Square)', 'Beale at Market', \n",
    "          'Market at 10th', 'Temporary Transbay Terminal (Howard at Beale)', 'Embarcadero at Sansone', 'Embarcadero at Vallejo',\n",
    "          '2nd at Townsend', 'Townsend at 7th', 'Market at Sansome', 'San Francisco Caltrain (Townsend at 4th)']\n",
    "my_colors = ['b', 'b', 'b', 'b', 'b', 'b', 'g','g','g','g','g','g']\n",
    "ax = plt.bar(stations, no_bikes, align='center', color = my_colors,)\n",
    "plt.xticks(stations, LABELS, rotation=90)\n",
    "plt.title('Zero Docks Available at Stations')\n",
    "plt.xlabel('Station')\n",
    "plt.ylabel('Minutes with Zero Docks Avaiable')\n",
    "plt.label(handles=['Outflow>Inflow', 'Inflow>Outflow'])\n",
    "plt.show()"
   ]
  },
  {
   "cell_type": "markdown",
   "metadata": {},
   "source": [
    "Another matplotlib issue we came encountered we trying to place a legend on the above graphs.  Essentially, we wanted to indicate what the green color (inflow>outflow) and blue color (outflow>inflow) represented.  But, while we could get a single legend (always for blue color) to appear, were not able to get both, after many manipulations of plt.legend(...). Another way we tried to overcome this was to have them as two seperate plots on the same axis."
   ]
  }
 ],
 "metadata": {
  "kernelspec": {
   "display_name": "Python 3",
   "language": "python",
   "name": "python3"
  },
  "language_info": {
   "codemirror_mode": {
    "name": "ipython",
    "version": 3
   },
   "file_extension": ".py",
   "mimetype": "text/x-python",
   "name": "python",
   "nbconvert_exporter": "python",
   "pygments_lexer": "ipython3",
   "version": "3.5.1"
  }
 },
 "nbformat": 4,
 "nbformat_minor": 0
}
